{
 "cells": [
  {
   "cell_type": "code",
   "execution_count": null,
   "metadata": {},
   "outputs": [],
   "source": [
    "\"\"\"Computation of GH comparisons between Dx matrices\"\"\"\n",
    "\n",
    "\"\"\"\n",
    "Starting from connectivity matrix CX using an algorith we created the Dx matrices. \n",
    "Then the Dx matrices are compared using the Gromov-Hausdorff distance and \n",
    "we create a GH matrix and we visualize the comparisons. \n",
    "\n",
    "__author__ = \"Giulia Moreni\"\n",
    "__contact__ = \"giulia.moreni1995@gmail.com\"\n",
    "__date__ = \"2020/04/15\"  \n",
    "__status__ = \"Concluded\" \n",
    "\n",
    "\n",
    "\n",
    "####################\n",
    " Review History   #\n",
    "####################\n",
    "\n",
    "Reviewed by Name Date ### \n",
    "\"\"\""
   ]
  },
  {
   "cell_type": "code",
   "execution_count": null,
   "metadata": {},
   "outputs": [],
   "source": [
    "####################\n",
    "# Libraries        #\n",
    "####################\n",
    "import pandas as pd #\n",
    "import matplotlib.pyplot as plt #\n",
    "import numpy as np # version 1.0.1\n",
    "import scipy as sio #\n",
    "import glob #\n",
    "import math as m #\n",
    "import seaborn as sns #"
   ]
  },
  {
   "cell_type": "code",
   "execution_count": null,
   "metadata": {},
   "outputs": [],
   "source": [
    "#Code to create a big object with all the Dx matices to then create GH matrix\n",
    "txt_files_dx = glob.glob('Dx_matrix_var01/dx*') #opening all the files I in the folder Dx:matrix_var01 \n",
    "print(txt_files_dx)\n",
    "\n",
    "dx_matrices_list = [] #dx_matrices_list is the list that will contain all matrix dx uploaded\n",
    "\n",
    "for i in range(0,len(txt_files_dx)): #Reading the data in the file and create an object which contains all the matrices Dx\n",
    "    dx_matrices_list.append(np.array(np.loadtxt(txt_files_dx[i])))   \n",
    "\n",
    "Dx=np.array(dx_matrices_list) #Converting the list with all the matrix in a big numpy array\n",
    "\n",
    "\n",
    "#Code to create the GH matrix where all the comparison between the Dx matrices are stored\n",
    "Tot_GH= [[0 for GH_x in range(0,len(Dx))] for GH_y in range(0,len(Dx))] #create the GH matrix filled with 0 \n",
    "\n",
    "for i in range(0,len(Dx)): #For the matrices in Dx I am comparing all the pairs\n",
    "    for j in range(i,len(Dx)):\n",
    "        difference=[] # I store here all the differences between two points of the two matrices\n",
    "        \n",
    "        for k in range(0,len(Dx[i])): # for all the pair of values of the two matrices I compute the difference and store the value in list \"difference\"\n",
    "            for h in range(k,len(Dx[i])):\n",
    "                difference.append(abs(Dx[i][k,h]-Dx[j][k,h]))\n",
    "                \n",
    "        max_diff= (1/2)*max(difference) # find the maximum between the differences of all the pairs of the two matrixes \n",
    "        #max_diff=np.mean(difference) #I can try with this if we want the mean instead of max!\n",
    "        Tot_GH[i][j]=max_diff      #The value 1/2maxdiff is stored in the GH matrix\n",
    "        Tot_GH[j][i]= Tot_GH[i][j]       #the matrix is symmetric\n",
    "\n",
    "        \n",
    "f=open('GH_var01','w+') #create the file to write the values of th GH matrix\n",
    "for i in range(0,len(Dx)):\n",
    "    for j in range(0,len(Dx)):\n",
    "        f.write('%f ' %Tot_GH[i][j]) # write the value in the i,j position of the matrix \n",
    "    f.write('\\n')\n",
    "f.close()"
   ]
  },
  {
   "cell_type": "code",
   "execution_count": null,
   "metadata": {},
   "outputs": [],
   "source": [
    "#Plot of the GH matrix \n",
    "GH=np.array(np.loadtxt('GH_var01') ) # load the GH matrix in an array to then plot it \n",
    "fig = plt.figure(figsize=(15, 10)) #create the figure\n",
    "GH_plot = sns.heatmap(GH,square=True,cmap='hot',xticklabels=10,yticklabels=10) # plot GH with heatmap\n",
    "\n",
    "GH_plot.set(xlim=(0,200),ylim=(200,0)) #set the range of x and y \n",
    "plt.title('GH',fontsize=18)\n",
    "plt.xlabel(\"____C1________C2_________C3________C4_________C5________C6________C7_______C8_________C9_______C10_____\")\n",
    "plt.ylabel(\"C10_______C9_________C8________C7________C6_________C5_______C4_______C3_________C2________C1__\")\n",
    "plt.show(GH_plot)\n",
    "\n",
    "#fig.savefig('GH_var01_mean.png') #save the figure\n"
   ]
  }
 ],
 "metadata": {
  "kernelspec": {
   "display_name": "Python 3",
   "language": "python",
   "name": "python3"
  },
  "language_info": {
   "codemirror_mode": {
    "name": "ipython",
    "version": 3
   },
   "file_extension": ".py",
   "mimetype": "text/x-python",
   "name": "python",
   "nbconvert_exporter": "python",
   "pygments_lexer": "ipython3",
   "version": "3.7.4"
  }
 },
 "nbformat": 4,
 "nbformat_minor": 2
}
